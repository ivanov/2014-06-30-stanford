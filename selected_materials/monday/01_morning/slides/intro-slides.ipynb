{
 "metadata": {
  "celltoolbar": "Slideshow",
  "name": "",
  "signature": "sha256:01ec593e2acd01eb210f764539c0de2ee0578e81fd5f2f507c6a1a1e52f2fe98"
 },
 "nbformat": 3,
 "nbformat_minor": 0,
 "worksheets": [
  {
   "cells": [
    {
     "cell_type": "markdown",
     "metadata": {
      "slideshow": {
       "slide_type": "slide"
      }
     },
     "source": [
      "<div align=\"center\"><font size=\"26\">Hello and welcome to</font></div>\n",
      "<div align=\"center\"><img src=\"http://www.data2semantics.org/bootcamp/img/software-carpentry-logo.png\" width=\"40%\" height=\"40%\"/></div>\n",
      "<br>\n",
      "<div align=\"center\"><font size=\"36\">@ </font></div>\n",
      "<br>\n",
      "<div align=\"center\"><img src=\"http://www.natcom.org/uploadedImages/More_Scholarly_Resources/Doctoral_Program_Resource_Guide/Stanford%20Logo.gif\" width=\"25%\" height=\"25%\"/></div>"
     ]
    },
    {
     "cell_type": "markdown",
     "metadata": {
      "slideshow": {
       "slide_type": "slide"
      }
     },
     "source": [
      "### Software Carpentry's goal is to make scientists and engineering more productive by teaching them basic computing skills.\n",
      "\n",
      "* Founded in 1997.\n",
      "* About 100 volunteers who ran almost 100 two-day workshop in 2013 alone.\n",
      "* All Material is open access. Please freely share, re-use, modify (just mention SWC as original source).\n",
      "* Supported by the Alfred P. Sloan Foundation and the Mozilla Foundation.\n",
      "\n",
      "<img src=\"https://raw.github.com/bernhardkonrad/2014-06-16-Davis/gh-pages/slides/SWCprev.png\" width=\"60%\" height=\"25%\"/>"
     ]
    },
    {
     "cell_type": "markdown",
     "metadata": {
      "slideshow": {
       "slide_type": "slide"
      }
     },
     "source": [
      "## Problem\n",
      "\n",
      "\n",
      "Surveyed almost two thousand scientists in 2008:\n",
      "\n",
      "* How do you use the computer?\n",
      "\n",
      "* How did you learn what you know?"
     ]
    },
    {
     "cell_type": "markdown",
     "metadata": {
      "slideshow": {
       "slide_type": "fragment"
      }
     },
     "source": [
      "## Answers\n",
      "\n",
      "* On average they spend 40% of their time building or using software.\n",
      "\n",
      "* More than half say that the amount of time they are spending on software is increasing.\n",
      "\n",
      "* <font color=\"red\"> 96% </font> say that what they know is **mostly self-taught**."
     ]
    },
    {
     "cell_type": "markdown",
     "metadata": {
      "slideshow": {
       "slide_type": "subslide"
      }
     },
     "source": [
      "## What Software Carpentry does\n",
      "\n",
      "Runs two full days of instructions on\n",
      "\n",
      "* The unix shell,\n",
      "\n",
      "* Git and GitHub,\n",
      "\n",
      "* Python or R.\n",
      "\n",
      "in order to show scientists how to\n",
      "\n",
      "* automate repetitive tasks,\n",
      "\n",
      "* track and share their work,\n",
      "\n",
      "* build programs in a modular, testable, and reusable way."
     ]
    },
    {
     "cell_type": "markdown",
     "metadata": {
      "slideshow": {
       "slide_type": "slide"
      }
     },
     "source": [
      "<iframe src=\"//player.vimeo.com/video/68558518\" width=\"500\" height=\"281\" frameborder=\"0\" webkitallowfullscreen mozallowfullscreen allowfullscreen></iframe> <p><a href=\"http://vimeo.com/68558518\">GIZMODO - The Wildly Functional Studio of Video Wizard Casey Neistat, Part 1</a> from <a href=\"http://vimeo.com/gizmodo\">Gizmodo</a> on <a href=\"https://vimeo.com\">Vimeo</a>.</p>"
     ]
    },
    {
     "cell_type": "markdown",
     "metadata": {
      "slideshow": {
       "slide_type": "subslide"
      }
     },
     "source": [
      "## It's just pure functionality\n",
      "\n",
      "\n",
      "> I mean, there\u2019s so much s*** in here; all of it\u2019s used, otherwise it wouldn\u2019t be in here, and you have to keep track of it. \n",
      "\n",
      "> So every minute that I spend looking for, like, velcro tape, or my drill gun, is a minute I\u2019m not doing something productive so why not build an infrastructure that supports that rather than encourages the chaos."
     ]
    },
    {
     "cell_type": "markdown",
     "metadata": {
      "slideshow": {
       "slide_type": "slide"
      }
     },
     "source": [
      "## A place for everything and everything in its place.\n",
      "\n",
      "<img src=\"http://images.fineartamerica.com/images-medium-large/a-place-for-everything-and-everything-in-its-place-andrew-armstrong.jpg\" width=\"80%\">"
     ]
    },
    {
     "cell_type": "markdown",
     "metadata": {
      "slideshow": {
       "slide_type": "subslide"
      }
     },
     "source": [
      "## Write code for humans, write data for computers.\n",
      "\n",
      ">\"Let us change our traditional attitude to the construction of programs: Instead of imagining that our main task is to instruct a computer what to do, let us concentrate rather on explaining to humans what we want the computer to do.\" - Donald Knuth"
     ]
    },
    {
     "cell_type": "markdown",
     "metadata": {
      "slideshow": {
       "slide_type": "subslide"
      }
     },
     "source": [
      "## Typing\n",
      "\n",
      "* Typos matter\n",
      "* cAsE maTTerS\n",
      "* *th.is* is different from *th-is*\n",
      "* spaces in the names are evil\n",
      "\n",
      "## Better algorithms beat better hardware\n",
      "\n",
      "## The source code is real.\n",
      "\n",
      "* The objects are realizations of the source code."
     ]
    },
    {
     "cell_type": "markdown",
     "metadata": {
      "slideshow": {
       "slide_type": "slide"
      }
     },
     "source": [
      "##Housekeeping"
     ]
    },
    {
     "cell_type": "markdown",
     "metadata": {
      "slideshow": {
       "slide_type": "subslide"
      }
     },
     "source": [
      "## Today's topics\n",
      "\n",
      "* Intro to the shell\n",
      "* Shell scripting and loops\n",
      "* Intro to version control\n",
      "* Using git and github"
     ]
    },
    {
     "cell_type": "markdown",
     "metadata": {
      "slideshow": {
       "slide_type": "subslide"
      }
     },
     "source": [
      "## Sticky Notes\n",
      "\n",
      "Easy visual feedback for instructors.\n",
      "\n",
      "* <font color=\"red\">If you are lost, confused, or need help, put the red sticky up on your laptop.</font>\n",
      "* <font color=\"green\">If all is well, put up the green sticky.</font>\n",
      "\n",
      "*Please asks questions immediately. Don't fall behind.*\n",
      "\n",
      "**Stickies also double as feedback form.**"
     ]
    },
    {
     "cell_type": "markdown",
     "metadata": {
      "slideshow": {
       "slide_type": "subslide"
      }
     },
     "source": [
      "## Etherpad\n",
      "\n",
      "<a href=\"https://etherpad.mozilla.org/2014-06-30-Stanford\">Click.</a>\n",
      "\n",
      "* Easy to share code and useful links.\n",
      "* Share notes with everyone\n",
      "* Ask questions."
     ]
    },
    {
     "cell_type": "markdown",
     "metadata": {
      "slideshow": {
       "slide_type": "subslide"
      }
     },
     "source": [
      "## Tools\n",
      "\n",
      "Things you want to have open:\n",
      "\n",
      "* Bootcamp etherpad\n",
      "* Note-taking device (optional, all material is freely available online)\n",
      "\n",
      "<img src=\"http://rebeccaberto.files.wordpress.com/2012/07/twitter-bird.jpg\" width=\"10%\" height=\"10%\"/> \n",
      "\n",
      "If you're on twitter *(not during a lesson, of course, unless you're done and want to share your learnings with the interwebs)*, tweet at @swcarpentry or use the hashtag #swcstanford"
     ]
    },
    {
     "cell_type": "code",
     "collapsed": false,
     "input": [],
     "language": "python",
     "metadata": {
      "slideshow": {
       "slide_type": "skip"
      }
     },
     "outputs": []
    }
   ],
   "metadata": {}
  }
 ]
}